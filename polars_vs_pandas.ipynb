{
 "cells": [
  {
   "cell_type": "code",
   "execution_count": 1,
   "id": "be594fc1-19d9-4169-bd5e-52b44359f2ee",
   "metadata": {},
   "outputs": [],
   "source": [
    "import polars as pl\n",
    "import pandas as pa\n",
    "import numpy as np\n",
    "import time"
   ]
  },
  {
   "cell_type": "code",
   "execution_count": 2,
   "id": "1483fe66-9cc5-457e-b1d1-20066ae144f2",
   "metadata": {},
   "outputs": [
    {
     "name": "stdout",
     "output_type": "stream",
     "text": [
      "shape: (5, 2)\n",
      "┌─────┬─────────┐\n",
      "│ id  ┆ name    │\n",
      "│ --- ┆ ---     │\n",
      "│ i64 ┆ str     │\n",
      "╞═════╪═════════╡\n",
      "│ 1   ┆ Alice   │\n",
      "│ 2   ┆ Bob     │\n",
      "│ 3   ┆ Charlie │\n",
      "│ 4   ┆ Diana   │\n",
      "│ 5   ┆ Evan    │\n",
      "└─────┴─────────┘\n"
     ]
    }
   ],
   "source": [
    "# Create a DataFrame\n",
    "df = pl.DataFrame({\n",
    "    \"id\": [1, 2, 3, 4, 5],\n",
    "    \"name\": [\"Alice\", \"Bob\", \"Charlie\", \"Diana\", \"Evan\"],\n",
    "})\n",
    "\n",
    "print(df)"
   ]
  },
  {
   "cell_type": "markdown",
   "id": "5e83a7b6-4357-4aaa-9b31-9b9ef9750e0f",
   "metadata": {},
   "source": [
    "## Data"
   ]
  },
  {
   "cell_type": "markdown",
   "id": "9e7036ba-0cfd-4c5b-ba5d-afe795742946",
   "metadata": {},
   "source": [
    "## - dataset_with_lots_of_cols.parquet -> 2.5M rows x 103 cols -> 335 MB\n",
    "## - dataset_with_lots_of_rows.parquet -> 25M rows x 4 cols -> 167 MB\n",
    "## - books_rating.csv -> 3M rows x 10 cols -> 2.86 GB\n",
    "## - used_cars.csv -> 3M rows x 66 cols -> 10 GB"
   ]
  },
  {
   "cell_type": "markdown",
   "id": "c2b15d69-a81d-4a1e-8d31-9985fa31ede2",
   "metadata": {},
   "source": [
    "## Generate Data"
   ]
  },
  {
   "cell_type": "code",
   "execution_count": 3,
   "id": "df55f95d-f7c7-4459-9d4e-f3ce8feadc05",
   "metadata": {},
   "outputs": [],
   "source": [
    "#import pandas as pa\n",
    "#import numpy as np\n",
    "\n",
    "# lots of columns dataset\n",
    "# n_rows = 2 500 000\n",
    "# n_cols = 100 # (103 in total)\n",
    "\n",
    "# lots of rows dataset\n",
    "# n_rows = 20 000 000\n",
    "# n_cols = 1  #(4 in total)\n",
    "\n",
    "#data = {f\"col{i}\": np.random.randint(0, 1000, n_rows) for i in range(n_cols)}\n",
    "#data[\"country\"] = np.random.choice([\"USA\", \"Canada\", \"Costa Rica\", \"Brazil\"], n_rows)\n",
    "#data[\"city\"] = np.random.choice([\"NY\", \"Toronto\", \"San Jose\", \"Rio\"], n_rows)\n",
    "#data[\"subscription_date\"] = pa.date_range(\"2020-01-01\", periods=n_rows, freq=\"s\")\n",
    "\n",
    "#df = pa.DataFrame(data)\n",
    "#df.to_parquet(\"dataset_with_lots_of_rows.parquet\")"
   ]
  },
  {
   "cell_type": "code",
   "execution_count": 6,
   "id": "38621957-b34a-40c4-925c-943ba615bfee",
   "metadata": {},
   "outputs": [],
   "source": [
    "dataset = \"Parquet/dataset_with_lots_of_rows.parquet\""
   ]
  },
  {
   "cell_type": "markdown",
   "id": "5496d81c-7167-4096-9993-9d092727adfc",
   "metadata": {},
   "source": [
    "## PANDAS"
   ]
  },
  {
   "cell_type": "code",
   "execution_count": 7,
   "id": "6ada7d60-37d7-45cc-bbeb-ca0310195ce9",
   "metadata": {},
   "outputs": [
    {
     "name": "stdout",
     "output_type": "stream",
     "text": [
      "       city   subscription_date\n",
      "0        NY 2020-01-01 00:00:59\n",
      "1       Rio 2020-01-01 00:00:39\n",
      "2  San Jose 2020-01-01 00:00:02\n",
      "3   Toronto 2020-01-01 00:00:13\n",
      "PANDAS: 2.9563 seconds\n"
     ]
    }
   ],
   "source": [
    "import pandas as pa\n",
    "import time\n",
    "\n",
    "start = time.time()\n",
    "\n",
    "df = pa.read_parquet(dataset)\n",
    "df_filtered = df[df[\"country\"] == \"Costa Rica\"]\n",
    "df_selected = df_filtered[[\"city\", \"subscription_date\"]]\n",
    "df_agg = df_selected.groupby(\"city\", as_index=False).agg({\"subscription_date\": \"min\"})\n",
    "result = df_agg.sort_values(\"city\")\n",
    "\n",
    "print(result)\n",
    "exec_time_pandas = (time.time() - start)\n",
    "print(\"PANDAS: %.4f seconds\" % exec_time_pandas)\n",
    "results = None"
   ]
  },
  {
   "cell_type": "markdown",
   "id": "e75d80d9-d613-4b91-9eaa-e2f3bf204761",
   "metadata": {},
   "source": [
    "## EAGER"
   ]
  },
  {
   "cell_type": "code",
   "execution_count": 8,
   "id": "adbc0bd6-4cef-4646-a1c1-4f2258f0ac1e",
   "metadata": {},
   "outputs": [
    {
     "name": "stdout",
     "output_type": "stream",
     "text": [
      "shape: (4, 2)\n",
      "┌──────────┬─────────────────────┐\n",
      "│ city     ┆ subscription_date   │\n",
      "│ ---      ┆ ---                 │\n",
      "│ str      ┆ datetime[ns]        │\n",
      "╞══════════╪═════════════════════╡\n",
      "│ NY       ┆ 2020-01-01 00:00:59 │\n",
      "│ Rio      ┆ 2020-01-01 00:00:39 │\n",
      "│ San Jose ┆ 2020-01-01 00:00:02 │\n",
      "│ Toronto  ┆ 2020-01-01 00:00:13 │\n",
      "└──────────┴─────────────────────┘\n",
      "POLARS EAGER: 0.6175 seconds\n"
     ]
    }
   ],
   "source": [
    "import polars as pl\n",
    "import time\n",
    "\n",
    "start = time.time()\n",
    "result = (\n",
    "    pl.read_parquet(dataset)\n",
    "      .filter(pl.col(\"country\") == \"Costa Rica\")\n",
    "      .select([\"city\", \"subscription_date\"])\n",
    "      .group_by(\"city\")\n",
    "      .agg(pl.min(\"subscription_date\"))\n",
    "      .sort(\"city\")\n",
    ")\n",
    "print(result)\n",
    "\n",
    "exec_time_eager = (time.time() - start)\n",
    "print(\"POLARS EAGER: %.4f seconds\" % exec_time_eager)\n",
    "results = None"
   ]
  },
  {
   "cell_type": "markdown",
   "id": "7fe192ea-ec89-4e00-847b-d65684930088",
   "metadata": {},
   "source": [
    "## EAGER SPLIT"
   ]
  },
  {
   "cell_type": "code",
   "execution_count": 9,
   "id": "fab4b339-0941-42cd-a398-c2d4425476fa",
   "metadata": {},
   "outputs": [
    {
     "name": "stdout",
     "output_type": "stream",
     "text": [
      "shape: (4, 2)\n",
      "┌──────────┬─────────────────────┐\n",
      "│ city     ┆ subscription_date   │\n",
      "│ ---      ┆ ---                 │\n",
      "│ str      ┆ datetime[ns]        │\n",
      "╞══════════╪═════════════════════╡\n",
      "│ NY       ┆ 2020-01-01 00:00:59 │\n",
      "│ Rio      ┆ 2020-01-01 00:00:39 │\n",
      "│ San Jose ┆ 2020-01-01 00:00:02 │\n",
      "│ Toronto  ┆ 2020-01-01 00:00:13 │\n",
      "└──────────┴─────────────────────┘\n",
      "POLARS EAGER SPLIT: 0.4749 seconds\n"
     ]
    }
   ],
   "source": [
    "import polars as pl\n",
    "import time\n",
    "\n",
    "start = time.time()\n",
    "df = pl.read_parquet(dataset)   # loads ALL 100+ columns\n",
    "df_filtered = df.filter(pl.col(\"country\") == \"Costa Rica\")\n",
    "df_selected = df_filtered.select([\"city\", \"subscription_date\"])\n",
    "df_agg = df_selected.group_by(\"city\").agg(pl.min(\"subscription_date\"))\n",
    "df_sorted = df_agg.sort(\"city\")\n",
    "print(df_sorted)\n",
    "\n",
    "exec_time_eager_split = (time.time() - start)\n",
    "print(\"POLARS EAGER SPLIT: %.4f seconds\" % exec_time_eager_split)\n",
    "results = None"
   ]
  },
  {
   "cell_type": "markdown",
   "id": "05bcb434-0a1f-4547-b5c9-9c21b145bb1c",
   "metadata": {},
   "source": [
    "## LAZY"
   ]
  },
  {
   "cell_type": "code",
   "execution_count": 10,
   "id": "20edac1e-0c9d-4216-b1e4-e18498344283",
   "metadata": {},
   "outputs": [
    {
     "name": "stdout",
     "output_type": "stream",
     "text": [
      "shape: (4, 2)\n",
      "┌──────────┬─────────────────────┐\n",
      "│ city     ┆ subscription_date   │\n",
      "│ ---      ┆ ---                 │\n",
      "│ str      ┆ datetime[ns]        │\n",
      "╞══════════╪═════════════════════╡\n",
      "│ NY       ┆ 2020-01-01 00:00:59 │\n",
      "│ Rio      ┆ 2020-01-01 00:00:39 │\n",
      "│ San Jose ┆ 2020-01-01 00:00:02 │\n",
      "│ Toronto  ┆ 2020-01-01 00:00:13 │\n",
      "└──────────┴─────────────────────┘\n",
      "SORT BY [col(\"city\")]\n",
      "  AGGREGATE[maintain_order: false]\n",
      "    [col(\"subscription_date\").min()] BY [col(\"city\")]\n",
      "    FROM\n",
      "    simple π 2/2 [\"city\", \"subscription_date\"]\n",
      "      Parquet SCAN [Parquet/dataset_with_lots_of_rows.parquet]\n",
      "      PROJECT 3/4 COLUMNS\n",
      "      SELECTION: [(col(\"country\")) == (\"Costa Rica\")]\n",
      "POLARS LAZY: 0.1663 seconds\n"
     ]
    }
   ],
   "source": [
    "import pandas as pa\n",
    "import time\n",
    "\n",
    "start = time.time()\n",
    "\n",
    "q = (\n",
    "    pl.scan_parquet(dataset)   # lazy reader\n",
    "      .filter(pl.col(\"country\") == \"Costa Rica\")\n",
    "      .select([\"city\", \"subscription_date\"])   # projection pushdown\n",
    "      .group_by(\"city\")\n",
    "      .agg(pl.min(\"subscription_date\"))\n",
    "      .sort(\"city\")\n",
    ")\n",
    "\n",
    "result_lazy = q.collect()\n",
    "print(result_lazy)\n",
    "print(q.explain())\n",
    "exec_time_lazy = (time.time() - start)\n",
    "print(\"POLARS LAZY: %.4f seconds\" % exec_time_lazy)\n",
    "results = None"
   ]
  },
  {
   "cell_type": "markdown",
   "id": "d25f8833-33a5-4f5b-83d9-aee13780cfad",
   "metadata": {},
   "source": [
    "## Compare Execution Time"
   ]
  },
  {
   "cell_type": "code",
   "execution_count": 11,
   "id": "21dc2f63-23d6-4842-b14b-8a7ff0c2d7c1",
   "metadata": {},
   "outputs": [
    {
     "name": "stdout",
     "output_type": "stream",
     "text": [
      "PANDAS: 2.9563 seconds\n",
      "POLARS EAGER: 0.6175 seconds\n",
      "POLARS EAGER SPLIT: 0.4749 seconds\n",
      "POLARS LAZY: 0.1663 seconds\n"
     ]
    }
   ],
   "source": [
    "print(\"PANDAS: %.4f seconds\" % exec_time_pandas)\n",
    "print(\"POLARS EAGER: %.4f seconds\" % exec_time_eager)\n",
    "print(\"POLARS EAGER SPLIT: %.4f seconds\" % exec_time_eager_split)\n",
    "print(\"POLARS LAZY: %.4f seconds\" % exec_time_lazy)"
   ]
  },
  {
   "cell_type": "markdown",
   "id": "b50bc95d-846a-42d3-8cb9-ff83fea7ff25",
   "metadata": {},
   "source": [
    "## Specify schema to catch type error faster"
   ]
  },
  {
   "cell_type": "code",
   "execution_count": 1,
   "id": "ca108b84-d017-4670-b561-185899e43458",
   "metadata": {},
   "outputs": [
    {
     "name": "stdout",
     "output_type": "stream",
     "text": [
      "WITH SCHEMA SPECIFIED: 0.4681 seconds\n",
      "WITHOUT SCHEMA SPECIFIED: 3.9672 seconds\n"
     ]
    }
   ],
   "source": [
    "import polars as pl\n",
    "import time\n",
    "\n",
    "schema = {}\n",
    "schema[\"Id\"] = pl.String\n",
    "schema[\"Title\"] = pl.String\n",
    "schema[\"Price\"] = pl.Float32\n",
    "schema[\"User_id\"] = pl.String\n",
    "schema[\"profileName\"] = pl.String\n",
    "schema[\"review/helpfulness\"] = pl.String\n",
    "schema[\"review/score\"] = pl.Float32\n",
    "schema[\"review/time\"] = pl.Datetime\n",
    "schema[\"review/summary\"] = pl.String\n",
    "schema[\"review/text\"] = pl.String\n",
    "\n",
    "\n",
    "try:\n",
    "    start = time.time()\n",
    "    q = (\n",
    "        pl.scan_csv(\"CSV/books_rating.csv\", schema=schema)\n",
    "        .with_columns(pl.col(\"Title\").dt.date().alias(\"date\"))\n",
    "    )\n",
    "    q.collect()\n",
    "except pl.exceptions.ComputeError: \n",
    "    print(\"WITH SCHEMA SPECIFIED: %.4f seconds\" % (time.time() - start))\n",
    "\n",
    "try:\n",
    "    start = time.time()\n",
    "    q = (\n",
    "        pl.scan_csv(\"CSV/books_rating.csv\")\n",
    "        .with_columns(pl.col(\"Title\").dt.date().alias(\"date\"))\n",
    "    )\n",
    "    q.collect()\n",
    "except pl.exceptions.ComputeError: \n",
    "    print(\"WITHOUT SCHEMA SPECIFIED: %.4f seconds\" % (time.time() - start))\n"
   ]
  },
  {
   "cell_type": "markdown",
   "id": "d244b8a7-b09e-4e27-9fa2-ba6eaaff6659",
   "metadata": {},
   "source": [
    "## Streaming Mode"
   ]
  },
  {
   "cell_type": "code",
   "execution_count": null,
   "id": "2fdd0d11-7c2e-4f57-a79c-698bff788fa1",
   "metadata": {},
   "outputs": [],
   "source": [
    "import time\n",
    "import polars as pl\n",
    "\n",
    "start = time.time()\n",
    "\n",
    "q = (\n",
    "    pl.scan_csv(\"CSV/used_cars.csv\", ignore_errors=True)\n",
    ")\n",
    "\n",
    "result_lazy = q.collect(engine=\"streaming\")\n",
    "print(result_lazy)\n",
    "print(\"LAZY: %.4f seconds\" % (time.time() - start))"
   ]
  }
 ],
 "metadata": {
  "kernelspec": {
   "display_name": "Python 3 (ipykernel)",
   "language": "python",
   "name": "python3"
  },
  "language_info": {
   "codemirror_mode": {
    "name": "ipython",
    "version": 3
   },
   "file_extension": ".py",
   "mimetype": "text/x-python",
   "name": "python",
   "nbconvert_exporter": "python",
   "pygments_lexer": "ipython3",
   "version": "3.11.13"
  }
 },
 "nbformat": 4,
 "nbformat_minor": 5
}
